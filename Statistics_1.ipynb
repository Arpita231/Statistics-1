{
  "nbformat": 4,
  "nbformat_minor": 0,
  "metadata": {
    "colab": {
      "provenance": []
    },
    "kernelspec": {
      "name": "python3",
      "display_name": "Python 3"
    },
    "language_info": {
      "name": "python"
    }
  },
  "cells": [
    {
      "cell_type": "markdown",
      "source": [
        "1: What is the difference between descriptive statistics and inferential\n",
        "statistics? Explain with examples.\n",
        "Ans:Descriptive statistics describe or summarize data. They help us understand what the data looks like.\n",
        "Example:\n",
        "A teacher records the test scores of 5 students: 80, 85, 90, 95, and 100.\n",
        "Mean (average) = 90\n",
        "Range = 100 - 80 = 20\n",
        "These are descriptive statistics because they summarize the actual data.\n",
        "Inferential statistics help us make predictions or draw conclusions about a larger group using a small sample.\n",
        "Example:\n",
        "You survey 100 people in a city to find out if they like a new product.\n",
        "Based on the sample, you say, “70% of all people in the city like the product.”\n",
        "This is inferential statistics because you are using a sample to make a guess about the whole population.\n",
        "\n",
        "2: What is sampling in statistics? Explain the differences between random\n",
        "and stratified sampling.\n",
        "Ans:Sampling is the process of selecting a small group (sample) from a larger group (population) to study or collect data.\n",
        "Random Sampling:\n",
        "In random sampling, every person or item in the population has an equal chance of being selected.\n",
        "Example:\n",
        "You have a list of 1,000 students, and you randomly pick 50 names using a computer.\n",
        "Every student has the same chance of being chosen.\n",
        "In stratified sampling, the population is divided into groups (called strata) based on something like age, gender, or grade. Then, you randomly pick people from each group.\n",
        "Example:\n",
        "A school has 3 grades: 6th, 7th, and 8th. You divide students by grade, then randomly select 10 students from each grade.\n",
        "This ensures each group is fairly represented.\n",
        "\n",
        "3: Define mean, median, and mode. Explain why these measures of central\n",
        "tendency are important.\n",
        "Ans: Mean (Average)\n",
        "The mean is the sum of all numbers divided by how many numbers there are.\n",
        "Example:\n",
        "Numbers: 10, 20, 30\n",
        "Mean = (10 + 20 + 30) ÷ 3 = 60 ÷ 3 = 20\n",
        "\n",
        "Median (Middle Value)\n",
        "The median is the middle number when the numbers are arranged in order.\n",
        "Example:\n",
        "Numbers: 10, 20, 30\n",
        "Median = 20 (middle number)\n",
        "If there are 2 middle numbers, take their average.\n",
        "Example: 10, 20, 30, 40 → Median = (20 + 30) ÷ 2 = 25\n",
        "\n",
        "Mode (Most Frequent Value)\n",
        "The mode is the number that appears most often.\n",
        "Example:\n",
        "Numbers: 10, 20, 20, 30\n",
        "Mode = 20 (it appears twice)\n",
        "\n",
        "4:Explain skewness and kurtosis. What does a positive skew imply about the\n",
        "data?\n",
        "Ans: Skewness tells us about the shape of the data—specifically, whether the data is symmetrical or not.\n",
        "Symmetrical data: Left and right sides look the same (like a bell curve).\n",
        "Skewed data: One side is longer or has more values.\n",
        "Type:\n",
        "Positive Skew (Right Skew)\tTail is longer on the right side. Most values are on the left.\n",
        "Negative Skew (Left Skew)\tTail is longer on the left side. Most values are on the right.\n",
        "\n",
        "Kurtosis tells us how tall or flat the data distribution is compared to a normal (bell-shaped) curve.\n",
        "\n"
      ],
      "metadata": {
        "id": "VcgLd-Exd1r1"
      }
    },
    {
      "cell_type": "code",
      "source": [
        "# 5:Implement a Python program to compute the mean, median, and mode of a given list of numbers. numbers = [12, 15, 12, 18, 19, 12, 20, 22, 19, 19, 24, 24, 24, 26, 28]\n",
        "\n",
        "import statistics\n",
        "\n",
        "# Given list of numbers\n",
        "numbers = [12, 15, 12, 18, 19, 12, 20, 22, 19, 19, 24, 24, 24, 26, 28]\n",
        "\n",
        "# Calculate mean\n",
        "mean = statistics.mean(numbers)\n",
        "\n",
        "# Calculate median\n",
        "median = statistics.median(numbers)\n",
        "\n",
        "# Calculate mode\n",
        "mode = statistics.mode(numbers)\n",
        "\n",
        "# Print the results\n",
        "print(\"Mean:\", mean)\n",
        "print(\"Median:\", median)\n",
        "print(\"Mode:\", mode)\n"
      ],
      "metadata": {
        "colab": {
          "base_uri": "https://localhost:8080/"
        },
        "id": "uIfiL2a4f4ZI",
        "outputId": "ba58f1b0-c2e7-453e-f9fb-fe62d1bb943c"
      },
      "execution_count": 1,
      "outputs": [
        {
          "output_type": "stream",
          "name": "stdout",
          "text": [
            "Mean: 19.6\n",
            "Median: 19\n",
            "Mode: 12\n"
          ]
        }
      ]
    },
    {
      "cell_type": "code",
      "source": [
        "#6. Compute the covariance and correlation coefficient between the following two datasets provided as lists in Python: list_x = [10, 20, 30, 40, 50]\n",
        "#list_y = [15, 25, 35, 45, 60]\n",
        "import numpy as np\n",
        "\n",
        "# Given data\n",
        "list_x = [10, 20, 30, 40, 50]\n",
        "list_y = [15, 25, 35, 45, 60]\n",
        "\n",
        "# Convert lists to numpy arrays\n",
        "x = np.array(list_x)\n",
        "y = np.array(list_y)\n",
        "\n",
        "# Calculate mean of x and y\n",
        "mean_x = np.mean(x)\n",
        "mean_y = np.mean(y)\n",
        "\n",
        "# Calculate covariance manually\n",
        "covariance = np.mean((x - mean_x) * (y - mean_y))\n",
        "\n",
        "# Calculate correlation coefficient using numpy\n",
        "correlation = np.corrcoef(x, y)[0, 1]\n",
        "\n",
        "# Print results\n",
        "print(\"Covariance:\", covariance)\n",
        "print(\"Correlation Coefficient:\", correlation)\n",
        "\n",
        "\n"
      ],
      "metadata": {
        "colab": {
          "base_uri": "https://localhost:8080/"
        },
        "id": "gCL-8af_gPQm",
        "outputId": "ee33f24f-894d-4ab1-a94d-895d749a3ace"
      },
      "execution_count": 2,
      "outputs": [
        {
          "output_type": "stream",
          "name": "stdout",
          "text": [
            "Covariance: 220.0\n",
            "Correlation Coefficient: 0.995893206467704\n"
          ]
        }
      ]
    },
    {
      "cell_type": "code",
      "execution_count": 3,
      "metadata": {
        "colab": {
          "base_uri": "https://localhost:8080/",
          "height": 581
        },
        "id": "3b67vdsdd0kO",
        "outputId": "9277871c-b54c-454b-a459-4b2bad410e55"
      },
      "outputs": [
        {
          "output_type": "display_data",
          "data": {
            "text/plain": [
              "<Figure size 640x480 with 1 Axes>"
            ],
            "image/png": "[encoded data removed]"
          },
          "metadata": {}
        },
        {
          "output_type": "stream",
          "name": "stdout",
          "text": [
            "Q1: 17.25\n",
            "Q3: 23.25\n",
            "IQR: 6.0\n",
            "Lower Bound: 8.25\n",
            "Upper Bound: 32.25\n",
            "Outliers: [35]\n"
          ]
        }
      ],
      "source": [
        "#7.Write a Python script to draw a boxplot for the following numeric list and identify its outliers. Explain the result: data = [12, 14, 14, 15, 18, 19, 19, 21, 22, 22, 23, 23, 24, 26, 29, 35]\n",
        "\n",
        "import matplotlib.pyplot as plt\n",
        "import numpy as np\n",
        "\n",
        "# Given data\n",
        "data = [12, 14, 14, 15, 18, 19, 19, 21, 22, 22, 23, 23, 24, 26, 29, 35]\n",
        "\n",
        "# Create the boxplot\n",
        "plt.boxplot(data, vert=False)\n",
        "plt.title('Boxplot of Data')\n",
        "plt.xlabel('Values')\n",
        "plt.grid(True)\n",
        "plt.show()\n",
        "\n",
        "# Identifying outliers manually\n",
        "# Step 1: Calculate Q1, Q3 and IQR\n",
        "q1 = np.percentile(data, 25)\n",
        "q3 = np.percentile(data, 75)\n",
        "iqr = q3 - q1\n",
        "\n",
        "# Step 2: Define bounds for outliers\n",
        "lower_bound = q1 - 1.5 * iqr\n",
        "upper_bound = q3 + 1.5 * iqr\n",
        "\n",
        "# Step 3: Find outliers\n",
        "outliers = [x for x in data if x < lower_bound or x > upper_bound]\n",
        "\n",
        "# Print results\n",
        "print(\"Q1:\", q1)\n",
        "print(\"Q3:\", q3)\n",
        "print(\"IQR:\", iqr)\n",
        "print(\"Lower Bound:\", lower_bound)\n",
        "print(\"Upper Bound:\", upper_bound)\n",
        "print(\"Outliers:\", outliers)\n"
      ]
    },
    {
      "cell_type": "code",
      "source": [],
      "metadata": {
        "id": "Zx6reWLng4cY"
      },
      "execution_count": null,
      "outputs": []
    }
  ]
}